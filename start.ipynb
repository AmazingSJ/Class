{
  "nbformat": 4,
  "nbformat_minor": 0,
  "metadata": {
    "colab": {
      "name": "start.ipynb",
      "provenance": [],
      "authorship_tag": "ABX9TyMtjxU5jngS2/Jnz6SmJgFd",
      "include_colab_link": true
    },
    "kernelspec": {
      "name": "python3",
      "display_name": "Python 3"
    },
    "language_info": {
      "name": "python"
    }
  },
  "cells": [
    {
      "cell_type": "markdown",
      "metadata": {
        "id": "view-in-github",
        "colab_type": "text"
      },
      "source": [
        "<a href=\"https://colab.research.google.com/github/AmazingSJ/Class/blob/master/start.ipynb\" target=\"_parent\"><img src=\"https://colab.research.google.com/assets/colab-badge.svg\" alt=\"Open In Colab\"/></a>"
      ]
    },
    {
      "cell_type": "markdown",
      "source": [
        "**파이썬 수업에 오신 여러분을 환영합니다.**\n",
        "\n",
        "**구글 코랩을 이용하여 파이썬의 기초를 공부해봅시다.**"
      ],
      "metadata": {
        "id": "cvhEoVShIQ6i"
      }
    }
  ]
}