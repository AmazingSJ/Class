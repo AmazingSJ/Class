{
  "nbformat": 4,
  "nbformat_minor": 0,
  "metadata": {
    "colab": {
      "name": "start.ipynb",
      "provenance": [],
      "authorship_tag": "ABX9TyNTv0TQYIi0ViExmFs2qZne",
      "include_colab_link": true
    },
    "kernelspec": {
      "name": "python3",
      "display_name": "Python 3"
    },
    "language_info": {
      "name": "python"
    }
  },
  "cells": [
    {
      "cell_type": "markdown",
      "metadata": {
        "id": "view-in-github",
        "colab_type": "text"
      },
      "source": [
        "<a href=\"https://colab.research.google.com/github/AmazingSJ/Class/blob/master/start.ipynb\" target=\"_parent\"><img src=\"https://colab.research.google.com/assets/colab-badge.svg\" alt=\"Open In Colab\"/></a>"
      ]
    },
    {
      "cell_type": "markdown",
      "source": [
        "# **파이썬 수업에 오신 여러분을 환영합니다.**\n",
        "\n",
        "**★ 구글 코랩을 이용하여 파이썬의 기초를 공부해봅시다. ★**\n",
        "\n",
        "> **1) 선생님의 설명을 잘 듣고 이해합니다.**\n",
        "\n",
        ">**2) 기본 코드를 참고하여 응용 문제를 풀어봅니다.**\n",
        "\n",
        ">**3) 모범 답안을 보고 자신의 코드를 수정 및 보강해봅니다.**\n",
        "\n",
        "\n",
        "# **※ 수업 모든 과정을 선생님이 확인하게 됩니다.**\n",
        "\n"
      ],
      "metadata": {
        "id": "cvhEoVShIQ6i"
      }
    }
  ]
}