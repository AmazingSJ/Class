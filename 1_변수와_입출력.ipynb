{
  "nbformat": 4,
  "nbformat_minor": 0,
  "metadata": {
    "colab": {
      "name": "1.변수와 입출력.ipynb",
      "provenance": [],
      "authorship_tag": "ABX9TyMtK+hNeYVlL48AAhwvEzyd",
      "include_colab_link": true
    },
    "kernelspec": {
      "name": "python3",
      "display_name": "Python 3"
    },
    "language_info": {
      "name": "python"
    }
  },
  "cells": [
    {
      "cell_type": "markdown",
      "metadata": {
        "id": "view-in-github",
        "colab_type": "text"
      },
      "source": [
        "<a href=\"https://colab.research.google.com/github/AmazingSJ/Class/blob/master/1_%EB%B3%80%EC%88%98%EC%99%80_%EC%9E%85%EC%B6%9C%EB%A0%A5.ipynb\" target=\"_parent\"><img src=\"https://colab.research.google.com/assets/colab-badge.svg\" alt=\"Open In Colab\"/></a>"
      ]
    },
    {
      "cell_type": "markdown",
      "source": [
        "**변수와 입출력**\n",
        "\n",
        "**★ 변수 ★**\n",
        "\n",
        "```\n",
        " 변수는 컴퓨터에서 값을 저장하는 하나의 공간입니다.\n",
        " 변수에 저장될 값은 고정되지 않고 언제든지 바뀔 수 있습니다. \n",
        " 그래서 변하는 수, 변수(變數 / 변할 변, 셀 수)라고 합니다. \n",
        "\n",
        " 새로운 변수를 만드는 것을 선언이라 하며, \n",
        " 선언 시 값을 저장하는 것을 초기화라고 합니다. \n",
        "```\n",
        "\n",
        "> a = 3  ▶  a라는 이름을 가진 변수 공간에 3이라는 정수 값을 저장(초기화)한다. a는 정수형이 된다.\n",
        "\n",
        "\n",
        ">  b = 't'  ▶  b라는 이름을 가진 변수 공간에 t라는 문자 값을 저장(초기화)한다. b는 문자열 자료형이 된다.\n",
        "\n",
        "\n",
        "> c = 'py'  ▶  c라는 이름을 가진 변수 공간에 py라는 문자열을 저장(초기화)한다. c는 문자열 자료형이 된다.\n",
        "\n",
        "\n",
        "\n",
        "**★ 출력 함수 ★**\n",
        "\n",
        "```\n",
        "print는 파이썬의 대표적인 출력 함수입니다. \n",
        "print 함수에서 따옴표 안에 출력할 문장을 쓰면 그대로 출력되며, \n",
        "숫자나 변수의 경우 따옴표를 붙이지 않습니다.\n",
        "+ 연산자로 문자를 결합하거나, * 연산자로 반복 출력\n",
        "```\n",
        "\n",
        "\n",
        "\n",
        "> print(\"hello world\")  ▶  hello world 출력 (띄어쓰기까지 그대로 출력)\n",
        "\n",
        ">  print(a)              ▶  변수 a의 값 출력\n",
        "\n",
        "> print(\"a\")            ▶  문자 a 출력\n",
        "\n",
        "> print(10)             ▶  정수 10 출력\n",
        "\n",
        "> print(\"C\"*10)         ▶  CCCCCCCCCC (C를 10번 반복하여 출력)\n",
        "\n",
        "> print(n*5)            ▶  변수 n의 값을 5번 반복하여 출력\n",
        "\n",
        "> print(\"A\"+\"05\")       ▶  A05 출력 \n",
        "\n",
        "\n",
        "\n",
        " \n",
        "\n",
        " \n",
        "  \n",
        "  \n",
        "  \n",
        "  \n",
        "\n"
      ],
      "metadata": {
        "id": "Cs9VEK0lhx42"
      }
    },
    {
      "cell_type": "code",
      "execution_count": null,
      "metadata": {
        "id": "FR92f5mWhI6P"
      },
      "outputs": [],
      "source": [
        ""
      ]
    }
  ]
}